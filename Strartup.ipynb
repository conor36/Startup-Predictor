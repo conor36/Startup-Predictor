{
 "cells": [
  {
   "cell_type": "code",
   "execution_count": 289,
   "id": "ecce4fe3",
   "metadata": {},
   "outputs": [],
   "source": [
    "import pandas as pd\n",
    "import matplotlib.pyplot as plt\n",
    "import numpy as np\n",
    "\n",
    "df = pd.read_csv(\"investmentVC.csv\")"
   ]
  },
  {
   "cell_type": "code",
   "execution_count": 290,
   "id": "0cca6608",
   "metadata": {},
   "outputs": [
    {
     "output_type": "execute_result",
     "data": {
      "text/plain": [
       "                         permalink                name  \\\n",
       "0            /organization/waywire            #waywire   \n",
       "1  /organization/tv-communications  &TV Communications   \n",
       "2    /organization/rock-your-paper   'Rock' Your Paper   \n",
       "3   /organization/in-touch-network   (In)Touch Network   \n",
       "4   /organization/r-ranch-and-mine  -R- Ranch and Mine   \n",
       "\n",
       "                    homepage_url  \\\n",
       "0         http://www.waywire.com   \n",
       "1          http://enjoyandtv.com   \n",
       "2   http://www.rockyourpaper.org   \n",
       "3  http://www.InTouchNetwork.com   \n",
       "4                            NaN   \n",
       "\n",
       "                                       category_list        market   \\\n",
       "0         |Entertainment|Politics|Social Media|News|          News    \n",
       "1                                            |Games|         Games    \n",
       "2                             |Publishing|Education|    Publishing    \n",
       "3  |Electronics|Guides|Coffee|Restaurants|Music|i...   Electronics    \n",
       "4                      |Tourism|Entertainment|Games|       Tourism    \n",
       "\n",
       "   funding_total_usd      status country_code state_code         region  ...  \\\n",
       "0          17,50,000    acquired          USA         NY  New York City  ...   \n",
       "1          40,00,000   operating          USA         CA    Los Angeles  ...   \n",
       "2             40,000   operating          EST        NaN        Tallinn  ...   \n",
       "3          15,00,000   operating          GBR        NaN         London  ...   \n",
       "4             60,000   operating          USA         TX         Dallas  ...   \n",
       "\n",
       "  secondary_market  product_crowdfunding round_A round_B round_C  round_D  \\\n",
       "0              0.0                   0.0     0.0     0.0     0.0      0.0   \n",
       "1              0.0                   0.0     0.0     0.0     0.0      0.0   \n",
       "2              0.0                   0.0     0.0     0.0     0.0      0.0   \n",
       "3              0.0                   0.0     0.0     0.0     0.0      0.0   \n",
       "4              0.0                   0.0     0.0     0.0     0.0      0.0   \n",
       "\n",
       "  round_E round_F  round_G  round_H  \n",
       "0     0.0     0.0      0.0      0.0  \n",
       "1     0.0     0.0      0.0      0.0  \n",
       "2     0.0     0.0      0.0      0.0  \n",
       "3     0.0     0.0      0.0      0.0  \n",
       "4     0.0     0.0      0.0      0.0  \n",
       "\n",
       "[5 rows x 39 columns]"
      ],
      "text/html": "<div>\n<style scoped>\n    .dataframe tbody tr th:only-of-type {\n        vertical-align: middle;\n    }\n\n    .dataframe tbody tr th {\n        vertical-align: top;\n    }\n\n    .dataframe thead th {\n        text-align: right;\n    }\n</style>\n<table border=\"1\" class=\"dataframe\">\n  <thead>\n    <tr style=\"text-align: right;\">\n      <th></th>\n      <th>permalink</th>\n      <th>name</th>\n      <th>homepage_url</th>\n      <th>category_list</th>\n      <th>market</th>\n      <th>funding_total_usd</th>\n      <th>status</th>\n      <th>country_code</th>\n      <th>state_code</th>\n      <th>region</th>\n      <th>...</th>\n      <th>secondary_market</th>\n      <th>product_crowdfunding</th>\n      <th>round_A</th>\n      <th>round_B</th>\n      <th>round_C</th>\n      <th>round_D</th>\n      <th>round_E</th>\n      <th>round_F</th>\n      <th>round_G</th>\n      <th>round_H</th>\n    </tr>\n  </thead>\n  <tbody>\n    <tr>\n      <th>0</th>\n      <td>/organization/waywire</td>\n      <td>#waywire</td>\n      <td>http://www.waywire.com</td>\n      <td>|Entertainment|Politics|Social Media|News|</td>\n      <td>News</td>\n      <td>17,50,000</td>\n      <td>acquired</td>\n      <td>USA</td>\n      <td>NY</td>\n      <td>New York City</td>\n      <td>...</td>\n      <td>0.0</td>\n      <td>0.0</td>\n      <td>0.0</td>\n      <td>0.0</td>\n      <td>0.0</td>\n      <td>0.0</td>\n      <td>0.0</td>\n      <td>0.0</td>\n      <td>0.0</td>\n      <td>0.0</td>\n    </tr>\n    <tr>\n      <th>1</th>\n      <td>/organization/tv-communications</td>\n      <td>&amp;TV Communications</td>\n      <td>http://enjoyandtv.com</td>\n      <td>|Games|</td>\n      <td>Games</td>\n      <td>40,00,000</td>\n      <td>operating</td>\n      <td>USA</td>\n      <td>CA</td>\n      <td>Los Angeles</td>\n      <td>...</td>\n      <td>0.0</td>\n      <td>0.0</td>\n      <td>0.0</td>\n      <td>0.0</td>\n      <td>0.0</td>\n      <td>0.0</td>\n      <td>0.0</td>\n      <td>0.0</td>\n      <td>0.0</td>\n      <td>0.0</td>\n    </tr>\n    <tr>\n      <th>2</th>\n      <td>/organization/rock-your-paper</td>\n      <td>'Rock' Your Paper</td>\n      <td>http://www.rockyourpaper.org</td>\n      <td>|Publishing|Education|</td>\n      <td>Publishing</td>\n      <td>40,000</td>\n      <td>operating</td>\n      <td>EST</td>\n      <td>NaN</td>\n      <td>Tallinn</td>\n      <td>...</td>\n      <td>0.0</td>\n      <td>0.0</td>\n      <td>0.0</td>\n      <td>0.0</td>\n      <td>0.0</td>\n      <td>0.0</td>\n      <td>0.0</td>\n      <td>0.0</td>\n      <td>0.0</td>\n      <td>0.0</td>\n    </tr>\n    <tr>\n      <th>3</th>\n      <td>/organization/in-touch-network</td>\n      <td>(In)Touch Network</td>\n      <td>http://www.InTouchNetwork.com</td>\n      <td>|Electronics|Guides|Coffee|Restaurants|Music|i...</td>\n      <td>Electronics</td>\n      <td>15,00,000</td>\n      <td>operating</td>\n      <td>GBR</td>\n      <td>NaN</td>\n      <td>London</td>\n      <td>...</td>\n      <td>0.0</td>\n      <td>0.0</td>\n      <td>0.0</td>\n      <td>0.0</td>\n      <td>0.0</td>\n      <td>0.0</td>\n      <td>0.0</td>\n      <td>0.0</td>\n      <td>0.0</td>\n      <td>0.0</td>\n    </tr>\n    <tr>\n      <th>4</th>\n      <td>/organization/r-ranch-and-mine</td>\n      <td>-R- Ranch and Mine</td>\n      <td>NaN</td>\n      <td>|Tourism|Entertainment|Games|</td>\n      <td>Tourism</td>\n      <td>60,000</td>\n      <td>operating</td>\n      <td>USA</td>\n      <td>TX</td>\n      <td>Dallas</td>\n      <td>...</td>\n      <td>0.0</td>\n      <td>0.0</td>\n      <td>0.0</td>\n      <td>0.0</td>\n      <td>0.0</td>\n      <td>0.0</td>\n      <td>0.0</td>\n      <td>0.0</td>\n      <td>0.0</td>\n      <td>0.0</td>\n    </tr>\n  </tbody>\n</table>\n<p>5 rows × 39 columns</p>\n</div>"
     },
     "metadata": {},
     "execution_count": 290
    }
   ],
   "source": [
    "df.head()"
   ]
  },
  {
   "cell_type": "code",
   "execution_count": 291,
   "id": "ba66beaf",
   "metadata": {},
   "outputs": [
    {
     "output_type": "execute_result",
     "data": {
      "text/plain": [
       "          market      funding country_code  founded_year     status\n",
       "0          News    17,50,000           USA        2012.0   acquired\n",
       "1         Games    40,00,000           USA           NaN  operating\n",
       "2    Publishing       40,000           EST        2012.0  operating\n",
       "3   Electronics    15,00,000           GBR        2011.0  operating\n",
       "4       Tourism       60,000           USA        2014.0  operating"
      ],
      "text/html": "<div>\n<style scoped>\n    .dataframe tbody tr th:only-of-type {\n        vertical-align: middle;\n    }\n\n    .dataframe tbody tr th {\n        vertical-align: top;\n    }\n\n    .dataframe thead th {\n        text-align: right;\n    }\n</style>\n<table border=\"1\" class=\"dataframe\">\n  <thead>\n    <tr style=\"text-align: right;\">\n      <th></th>\n      <th>market</th>\n      <th>funding</th>\n      <th>country_code</th>\n      <th>founded_year</th>\n      <th>status</th>\n    </tr>\n  </thead>\n  <tbody>\n    <tr>\n      <th>0</th>\n      <td>News</td>\n      <td>17,50,000</td>\n      <td>USA</td>\n      <td>2012.0</td>\n      <td>acquired</td>\n    </tr>\n    <tr>\n      <th>1</th>\n      <td>Games</td>\n      <td>40,00,000</td>\n      <td>USA</td>\n      <td>NaN</td>\n      <td>operating</td>\n    </tr>\n    <tr>\n      <th>2</th>\n      <td>Publishing</td>\n      <td>40,000</td>\n      <td>EST</td>\n      <td>2012.0</td>\n      <td>operating</td>\n    </tr>\n    <tr>\n      <th>3</th>\n      <td>Electronics</td>\n      <td>15,00,000</td>\n      <td>GBR</td>\n      <td>2011.0</td>\n      <td>operating</td>\n    </tr>\n    <tr>\n      <th>4</th>\n      <td>Tourism</td>\n      <td>60,000</td>\n      <td>USA</td>\n      <td>2014.0</td>\n      <td>operating</td>\n    </tr>\n  </tbody>\n</table>\n</div>"
     },
     "metadata": {},
     "execution_count": 291
    }
   ],
   "source": [
    "df = df[[\" market \", \" funding_total_usd \", \"country_code\", \"founded_year\", \"status\"]]\n",
    "df = df.rename({\" market \": \"market\", \" funding_total_usd \": \"funding\"}, axis=1)\n",
    "#df = df.rename({\" funding_total_usd \": \"funding\"}, axis=1)\n",
    "df.head()"
   ]
  },
  {
   "cell_type": "code",
   "execution_count": 292,
   "id": "7b1a2558",
   "metadata": {},
   "outputs": [],
   "source": [
    "df['funding'] = df['funding'].str.replace(',', '').str.replace(' -   ', '').str.replace(' ', '').str.replace('  ', '').str.replace('   ', '').str.replace('  ', '').str.replace('    ', '')\n"
   ]
  },
  {
   "cell_type": "code",
   "execution_count": 293,
   "id": "02f7d634",
   "metadata": {},
   "outputs": [],
   "source": [
    "df.replace('', np.nan, inplace = True)\n",
    "df = df.dropna()"
   ]
  },
  {
   "cell_type": "code",
   "execution_count": 294,
   "id": "fc5f7b66",
   "metadata": {},
   "outputs": [],
   "source": [
    "df.replace('', np.nan, inplace = True)\n",
    "df = df.dropna()\n",
    "df['funding'] = df['funding'].astype(float)"
   ]
  },
  {
   "cell_type": "code",
   "execution_count": 295,
   "id": "8c8cf7e9",
   "metadata": {},
   "outputs": [
    {
     "output_type": "stream",
     "name": "stdout",
     "text": [
      "<class 'pandas.core.frame.DataFrame'>\nInt64Index: 28292 entries, 0 to 49437\nData columns (total 5 columns):\n #   Column        Non-Null Count  Dtype  \n---  ------        --------------  -----  \n 0   market        28292 non-null  object \n 1   funding       28292 non-null  float64\n 2   country_code  28292 non-null  object \n 3   founded_year  28292 non-null  float64\n 4   status        28292 non-null  object \ndtypes: float64(2), object(3)\nmemory usage: 1.3+ MB\n"
     ]
    }
   ],
   "source": [
    "df.info()"
   ]
  },
  {
   "cell_type": "code",
   "execution_count": 296,
   "metadata": {},
   "outputs": [
    {
     "output_type": "execute_result",
     "data": {
      "text/plain": [
       "           market     funding country_code  founded_year    status\n",
       "0           News    1750000.0          USA        2012.0  acquired\n",
       "20   Curated Web    2535000.0          USA        2010.0  acquired\n",
       "27     Analytics    1250000.0          USA        2011.0  acquired\n",
       "30   Curated Web      50000.0          USA        2009.0    closed\n",
       "62      Software   14000000.0          USA        1990.0  acquired"
      ],
      "text/html": "<div>\n<style scoped>\n    .dataframe tbody tr th:only-of-type {\n        vertical-align: middle;\n    }\n\n    .dataframe tbody tr th {\n        vertical-align: top;\n    }\n\n    .dataframe thead th {\n        text-align: right;\n    }\n</style>\n<table border=\"1\" class=\"dataframe\">\n  <thead>\n    <tr style=\"text-align: right;\">\n      <th></th>\n      <th>market</th>\n      <th>funding</th>\n      <th>country_code</th>\n      <th>founded_year</th>\n      <th>status</th>\n    </tr>\n  </thead>\n  <tbody>\n    <tr>\n      <th>0</th>\n      <td>News</td>\n      <td>1750000.0</td>\n      <td>USA</td>\n      <td>2012.0</td>\n      <td>acquired</td>\n    </tr>\n    <tr>\n      <th>20</th>\n      <td>Curated Web</td>\n      <td>2535000.0</td>\n      <td>USA</td>\n      <td>2010.0</td>\n      <td>acquired</td>\n    </tr>\n    <tr>\n      <th>27</th>\n      <td>Analytics</td>\n      <td>1250000.0</td>\n      <td>USA</td>\n      <td>2011.0</td>\n      <td>acquired</td>\n    </tr>\n    <tr>\n      <th>30</th>\n      <td>Curated Web</td>\n      <td>50000.0</td>\n      <td>USA</td>\n      <td>2009.0</td>\n      <td>closed</td>\n    </tr>\n    <tr>\n      <th>62</th>\n      <td>Software</td>\n      <td>14000000.0</td>\n      <td>USA</td>\n      <td>1990.0</td>\n      <td>acquired</td>\n    </tr>\n  </tbody>\n</table>\n</div>"
     },
     "metadata": {},
     "execution_count": 296
    }
   ],
   "source": [
    "df.drop(index=df[df['status'] == 'operating'].index, inplace=True)\n",
    "df.head()"
   ]
  },
  {
   "cell_type": "code",
   "execution_count": 297,
   "id": "09658ff9",
   "metadata": {},
   "outputs": [
    {
     "output_type": "execute_result",
     "data": {
      "text/plain": [
       "market          0\n",
       "funding         0\n",
       "country_code    0\n",
       "founded_year    0\n",
       "status          0\n",
       "dtype: int64"
      ]
     },
     "metadata": {},
     "execution_count": 297
    }
   ],
   "source": [
    "df = df.dropna()\n",
    "df.isnull().sum()"
   ]
  },
  {
   "cell_type": "code",
   "execution_count": 298,
   "id": "df790bf9",
   "metadata": {},
   "outputs": [
    {
     "output_type": "execute_result",
     "data": {
      "text/plain": [
       "['Software',\n",
       " 'CuratedWeb',\n",
       " 'Mobile',\n",
       " 'EnterpriseSoftware',\n",
       " 'Biotechnology',\n",
       " 'Advertising',\n",
       " 'Games',\n",
       " 'E-Commerce',\n",
       " 'SocialMedia',\n",
       " 'Semiconductors',\n",
       " 'Hardware+Software',\n",
       " 'Security',\n",
       " 'WebHosting',\n",
       " 'CleanTechnology',\n",
       " 'HealthCare']"
      ]
     },
     "metadata": {},
     "execution_count": 298
    }
   ],
   "source": [
    "df['market'] = df['market'].str.replace(' ', '')\n",
    "n = 15\n",
    "df['market'].value_counts()[:n].index.tolist()"
   ]
  },
  {
   "cell_type": "code",
   "execution_count": 299,
   "id": "66c83fd4",
   "metadata": {},
   "outputs": [],
   "source": [
    "df = df.loc[df['market'].isin(['Software',\n",
    " 'Biotechnology',\n",
    " 'Mobile',\n",
    " 'E-Commerce',\n",
    " 'CuratedWeb',\n",
    " 'EnterpriseSoftware',\n",
    " 'HealthCare',\n",
    " 'Hardware+Software',\n",
    " 'Advertising',\n",
    " 'Games',\n",
    " 'CleanTechnology',\n",
    " 'HealthandWellness',\n",
    " 'SocialMedia',\n",
    " 'Education',\n",
    " 'Finance'])]"
   ]
  },
  {
   "cell_type": "code",
   "execution_count": 300,
   "id": "23ed097c",
   "metadata": {},
   "outputs": [
    {
     "output_type": "stream",
     "name": "stdout",
     "text": [
      "<class 'pandas.core.frame.DataFrame'>\nInt64Index: 2201 entries, 20 to 49430\nData columns (total 5 columns):\n #   Column        Non-Null Count  Dtype  \n---  ------        --------------  -----  \n 0   market        2201 non-null   object \n 1   funding       2201 non-null   float64\n 2   country_code  2201 non-null   object \n 3   founded_year  2201 non-null   float64\n 4   status        2201 non-null   object \ndtypes: float64(2), object(3)\nmemory usage: 103.2+ KB\n"
     ]
    }
   ],
   "source": [
    "df.info()"
   ]
  },
  {
   "cell_type": "code",
   "execution_count": 325,
   "id": "45175c72",
   "metadata": {},
   "outputs": [
    {
     "output_type": "execute_result",
     "data": {
      "text/plain": [
       "       market     funding  country_code  founded_year    status\n",
       "20          3   2535000.0             9        2010.0  acquired\n",
       "30          3     50000.0             9        2009.0    closed\n",
       "62         14  14000000.0             9        1990.0  acquired\n",
       "74          4     50000.0             9        2008.0    closed\n",
       "123        14     50000.0             9        2010.0    closed\n",
       "...       ...         ...           ...           ...       ...\n",
       "49394       4   2700000.0             9        2010.0    closed\n",
       "49396       0     12000.0             6        2010.0    closed\n",
       "49413       9   3384225.0             4        2005.0  acquired\n",
       "49419       1   2257464.0             9        2006.0    closed\n",
       "49430       1  15419877.0             8        1994.0    closed\n",
       "\n",
       "[2201 rows x 5 columns]"
      ],
      "text/html": "<div>\n<style scoped>\n    .dataframe tbody tr th:only-of-type {\n        vertical-align: middle;\n    }\n\n    .dataframe tbody tr th {\n        vertical-align: top;\n    }\n\n    .dataframe thead th {\n        text-align: right;\n    }\n</style>\n<table border=\"1\" class=\"dataframe\">\n  <thead>\n    <tr style=\"text-align: right;\">\n      <th></th>\n      <th>market</th>\n      <th>funding</th>\n      <th>country_code</th>\n      <th>founded_year</th>\n      <th>status</th>\n    </tr>\n  </thead>\n  <tbody>\n    <tr>\n      <th>20</th>\n      <td>3</td>\n      <td>2535000.0</td>\n      <td>9</td>\n      <td>2010.0</td>\n      <td>acquired</td>\n    </tr>\n    <tr>\n      <th>30</th>\n      <td>3</td>\n      <td>50000.0</td>\n      <td>9</td>\n      <td>2009.0</td>\n      <td>closed</td>\n    </tr>\n    <tr>\n      <th>62</th>\n      <td>14</td>\n      <td>14000000.0</td>\n      <td>9</td>\n      <td>1990.0</td>\n      <td>acquired</td>\n    </tr>\n    <tr>\n      <th>74</th>\n      <td>4</td>\n      <td>50000.0</td>\n      <td>9</td>\n      <td>2008.0</td>\n      <td>closed</td>\n    </tr>\n    <tr>\n      <th>123</th>\n      <td>14</td>\n      <td>50000.0</td>\n      <td>9</td>\n      <td>2010.0</td>\n      <td>closed</td>\n    </tr>\n    <tr>\n      <th>...</th>\n      <td>...</td>\n      <td>...</td>\n      <td>...</td>\n      <td>...</td>\n      <td>...</td>\n    </tr>\n    <tr>\n      <th>49394</th>\n      <td>4</td>\n      <td>2700000.0</td>\n      <td>9</td>\n      <td>2010.0</td>\n      <td>closed</td>\n    </tr>\n    <tr>\n      <th>49396</th>\n      <td>0</td>\n      <td>12000.0</td>\n      <td>6</td>\n      <td>2010.0</td>\n      <td>closed</td>\n    </tr>\n    <tr>\n      <th>49413</th>\n      <td>9</td>\n      <td>3384225.0</td>\n      <td>4</td>\n      <td>2005.0</td>\n      <td>acquired</td>\n    </tr>\n    <tr>\n      <th>49419</th>\n      <td>1</td>\n      <td>2257464.0</td>\n      <td>9</td>\n      <td>2006.0</td>\n      <td>closed</td>\n    </tr>\n    <tr>\n      <th>49430</th>\n      <td>1</td>\n      <td>15419877.0</td>\n      <td>8</td>\n      <td>1994.0</td>\n      <td>closed</td>\n    </tr>\n  </tbody>\n</table>\n<p>2201 rows × 5 columns</p>\n</div>"
     },
     "metadata": {},
     "execution_count": 325
    }
   ],
   "source": [
    "\n",
    "\n",
    "df['funding'].astype(int)\n",
    "df.sort_values(by=\"funding\", ascending=True)\n",
    "df"
   ]
  },
  {
   "cell_type": "code",
   "execution_count": 302,
   "id": "793ec082",
   "metadata": {},
   "outputs": [
    {
     "output_type": "stream",
     "name": "stdout",
     "text": [
      "<class 'pandas.core.frame.DataFrame'>\nInt64Index: 2201 entries, 20 to 49430\nData columns (total 5 columns):\n #   Column        Non-Null Count  Dtype  \n---  ------        --------------  -----  \n 0   market        2201 non-null   object \n 1   funding       2201 non-null   float64\n 2   country_code  2201 non-null   object \n 3   founded_year  2201 non-null   float64\n 4   status        2201 non-null   object \ndtypes: float64(2), object(3)\nmemory usage: 103.2+ KB\n"
     ]
    }
   ],
   "source": [
    "#df.founded_year = df.founded_year.astype(int)\n",
    "#df.funding = df.funding.astype(int)\n",
    "df.info()"
   ]
  },
  {
   "cell_type": "code",
   "execution_count": 303,
   "id": "5c2152d6",
   "metadata": {},
   "outputs": [
    {
     "output_type": "execute_result",
     "data": {
      "text/plain": [
       "2010.0    206\n",
       "2007.0    205\n",
       "2006.0    199\n",
       "2008.0    169\n",
       "2011.0    161\n",
       "2009.0    159\n",
       "2005.0    151\n",
       "2004.0    126\n",
       "2003.0    110\n",
       "1999.0    109\n",
       "2000.0    108\n",
       "2001.0     93\n",
       "2002.0     91\n",
       "2012.0     75\n",
       "1998.0     46\n",
       "1997.0     42\n",
       "1996.0     23\n",
       "1995.0     20\n",
       "2013.0     14\n",
       "1994.0     11\n",
       "1993.0     10\n",
       "1983.0      9\n",
       "1989.0      8\n",
       "1990.0      8\n",
       "1985.0      7\n",
       "1984.0      6\n",
       "1992.0      5\n",
       "1991.0      5\n",
       "1988.0      4\n",
       "1987.0      4\n",
       "1982.0      3\n",
       "1979.0      3\n",
       "1980.0      2\n",
       "1986.0      2\n",
       "1976.0      1\n",
       "1975.0      1\n",
       "1969.0      1\n",
       "1981.0      1\n",
       "1960.0      1\n",
       "1934.0      1\n",
       "1974.0      1\n",
       "Name: founded_year, dtype: int64"
      ]
     },
     "metadata": {},
     "execution_count": 303
    }
   ],
   "source": [
    "df['founded_year'].value_counts()"
   ]
  },
  {
   "cell_type": "code",
   "execution_count": 304,
   "id": "fc1a8c93",
   "metadata": {},
   "outputs": [
    {
     "output_type": "execute_result",
     "data": {
      "text/plain": [
       "array([ 2535000.,    50000., 14000000., ...,  3384225.,  2257464.,\n",
       "       15419877.])"
      ]
     },
     "metadata": {},
     "execution_count": 304
    }
   ],
   "source": [
    "### Cleaning Data ####\n",
    "\n",
    "df[\"funding\"].unique()"
   ]
  },
  {
   "cell_type": "code",
   "execution_count": 305,
   "id": "48ba6fcd",
   "metadata": {},
   "outputs": [],
   "source": [
    "def shorten_categories(categories, cutoff):\n",
    "    categorical_map = {}\n",
    "    for i in range(len(categories)):\n",
    "        if categories.values[i] >= cutoff:\n",
    "            categorical_map[categories.index[i]] = categories.index[i]\n",
    "        else:\n",
    "            categorical_map[categories.index[i]] = 'Other'\n",
    "    return categorical_map"
   ]
  },
  {
   "cell_type": "code",
   "execution_count": 306,
   "id": "e9c7e25e",
   "metadata": {},
   "outputs": [
    {
     "output_type": "execute_result",
     "data": {
      "text/plain": [
       "USA      1694\n",
       "Other     163\n",
       "GBR       107\n",
       "CAN        72\n",
       "ISR        38\n",
       "FRA        37\n",
       "DEU        34\n",
       "IND        21\n",
       "ESP        19\n",
       "CHN        16\n",
       "Name: country_code, dtype: int64"
      ]
     },
     "metadata": {},
     "execution_count": 306
    }
   ],
   "source": [
    "country_map = shorten_categories(df.country_code.value_counts(), 15)\n",
    "df['country_code'] = df['country_code'].map(country_map)\n",
    "df.country_code.value_counts()"
   ]
  },
  {
   "cell_type": "code",
   "execution_count": 307,
   "id": "16c49d31",
   "metadata": {},
   "outputs": [
    {
     "output_type": "execute_result",
     "data": {
      "text/plain": [
       "\"\\nfounded_map = shorten_categories(df.founded_year.value_counts(), 100)\\ndf['founded_year'] = df['founded_year'].map(founded_map)\\ndf.founded_year.value_counts()\\n\""
      ]
     },
     "metadata": {},
     "execution_count": 307
    }
   ],
   "source": [
    "'''\n",
    "founded_map = shorten_categories(df.founded_year.value_counts(), 100)\n",
    "df['founded_year'] = df['founded_year'].map(founded_map)\n",
    "df.founded_year.value_counts()\n",
    "'''"
   ]
  },
  {
   "cell_type": "code",
   "execution_count": 308,
   "id": "ec5d3cb7",
   "metadata": {},
   "outputs": [
    {
     "output_type": "execute_result",
     "data": {
      "text/plain": [
       "array(['CuratedWeb', 'Software', 'E-Commerce', 'Games', 'CleanTechnology',\n",
       "       'Finance', 'Mobile', 'Biotechnology', 'Advertising', 'HealthCare',\n",
       "       'EnterpriseSoftware', 'SocialMedia', 'HealthandWellness',\n",
       "       'Hardware+Software', 'Education'], dtype=object)"
      ]
     },
     "metadata": {},
     "execution_count": 308
    }
   ],
   "source": [
    "df['market'].unique()"
   ]
  },
  {
   "cell_type": "code",
   "execution_count": 309,
   "id": "1f5a6c76",
   "metadata": {},
   "outputs": [
    {
     "output_type": "execute_result",
     "data": {
      "text/plain": [
       "array([ 3, 14,  4,  8,  2,  7, 12,  1,  0, 10,  6, 13, 11,  9,  5])"
      ]
     },
     "metadata": {},
     "execution_count": 309
    }
   ],
   "source": [
    "#### Unique Values ####\n",
    "\n",
    "from sklearn.preprocessing import LabelEncoder\n",
    "market_fit = LabelEncoder()\n",
    "df['market'] = market_fit.fit_transform(df['market'])\n",
    "df['market'].unique()"
   ]
  },
  {
   "cell_type": "code",
   "execution_count": 310,
   "id": "fda629a4",
   "metadata": {},
   "outputs": [
    {
     "output_type": "execute_result",
     "data": {
      "text/plain": [
       "array([9, 8, 5, 1, 4, 6, 2, 3, 0, 7])"
      ]
     },
     "metadata": {},
     "execution_count": 310
    }
   ],
   "source": [
    "df['country_code'].unique()\n",
    "from sklearn.preprocessing import LabelEncoder\n",
    "country_fit = LabelEncoder()\n",
    "df['country_code'] = country_fit.fit_transform(df['country_code'])\n",
    "df['country_code'].unique()"
   ]
  },
  {
   "cell_type": "code",
   "execution_count": 311,
   "id": "bfd636a8",
   "metadata": {},
   "outputs": [
    {
     "output_type": "execute_result",
     "data": {
      "text/plain": [
       "\"\\ndf['status'].unique()\\nfrom sklearn.preprocessing import LabelEncoder\\nstatus_fit = LabelEncoder()\\ndf['status'] = status_fit.fit_transform(df['status'])\\ndf['status'].unique()\\n\""
      ]
     },
     "metadata": {},
     "execution_count": 311
    }
   ],
   "source": [
    "'''\n",
    "df['status'].unique()\n",
    "from sklearn.preprocessing import LabelEncoder\n",
    "status_fit = LabelEncoder()\n",
    "df['status'] = status_fit.fit_transform(df['status'])\n",
    "df['status'].unique()\n",
    "'''"
   ]
  },
  {
   "cell_type": "code",
   "execution_count": 312,
   "id": "e5424f4d",
   "metadata": {},
   "outputs": [],
   "source": [
    "##### RANDOM FOREST #####\n",
    "\n",
    "# Import train_test_split function\n",
    "from sklearn.model_selection import train_test_split\n",
    "\n",
    "X=df[['market', 'funding', 'country_code', 'founded_year']]  # Features\n",
    "y=df['status']  # Labels\n",
    "\n",
    "# Split dataset into training set and test set\n",
    "X_train, X_test, y_train, y_test = train_test_split(X, y, test_size=0.3)"
   ]
  },
  {
   "cell_type": "code",
   "execution_count": 313,
   "id": "6c8b0adf",
   "metadata": {},
   "outputs": [],
   "source": [
    "from sklearn.ensemble import RandomForestClassifier\n",
    "\n",
    "#Create a Gaussian Classifier\n",
    "clf=RandomForestClassifier(n_estimators=100)\n",
    "\n",
    "#Train the model using the training sets y_pred=clf.predict(X_test)\n",
    "clf.fit(X_train,y_train)\n",
    "\n",
    "y_pred=clf.predict(X_test)"
   ]
  },
  {
   "cell_type": "code",
   "execution_count": 314,
   "id": "2274018b",
   "metadata": {},
   "outputs": [
    {
     "output_type": "stream",
     "name": "stdout",
     "text": [
      "Accuracy: 0.6505295007564297\n"
     ]
    }
   ],
   "source": [
    "from sklearn import metrics\n",
    "# Model Accuracy, how often is the classifier correct?\n",
    "print(\"Accuracy:\",metrics.accuracy_score(y_test, y_pred))"
   ]
  },
  {
   "cell_type": "code",
   "execution_count": 315,
   "id": "18b84c33",
   "metadata": {},
   "outputs": [],
   "source": [
    "y_pred = clf.predict([[1, 100000.0, 1, 2012.0]])"
   ]
  },
  {
   "cell_type": "code",
   "execution_count": 316,
   "id": "91b6860b",
   "metadata": {},
   "outputs": [
    {
     "output_type": "execute_result",
     "data": {
      "text/plain": [
       "       market     funding  country_code  founded_year\n",
       "20          3   2535000.0             9        2010.0\n",
       "30          3     50000.0             9        2009.0\n",
       "62         14  14000000.0             9        1990.0\n",
       "74          4     50000.0             9        2008.0\n",
       "123        14     50000.0             9        2010.0\n",
       "...       ...         ...           ...           ...\n",
       "49394       4   2700000.0             9        2010.0\n",
       "49396       0     12000.0             6        2010.0\n",
       "49413       9   3384225.0             4        2005.0\n",
       "49419       1   2257464.0             9        2006.0\n",
       "49430       1  15419877.0             8        1994.0\n",
       "\n",
       "[2201 rows x 4 columns]"
      ],
      "text/html": "<div>\n<style scoped>\n    .dataframe tbody tr th:only-of-type {\n        vertical-align: middle;\n    }\n\n    .dataframe tbody tr th {\n        vertical-align: top;\n    }\n\n    .dataframe thead th {\n        text-align: right;\n    }\n</style>\n<table border=\"1\" class=\"dataframe\">\n  <thead>\n    <tr style=\"text-align: right;\">\n      <th></th>\n      <th>market</th>\n      <th>funding</th>\n      <th>country_code</th>\n      <th>founded_year</th>\n    </tr>\n  </thead>\n  <tbody>\n    <tr>\n      <th>20</th>\n      <td>3</td>\n      <td>2535000.0</td>\n      <td>9</td>\n      <td>2010.0</td>\n    </tr>\n    <tr>\n      <th>30</th>\n      <td>3</td>\n      <td>50000.0</td>\n      <td>9</td>\n      <td>2009.0</td>\n    </tr>\n    <tr>\n      <th>62</th>\n      <td>14</td>\n      <td>14000000.0</td>\n      <td>9</td>\n      <td>1990.0</td>\n    </tr>\n    <tr>\n      <th>74</th>\n      <td>4</td>\n      <td>50000.0</td>\n      <td>9</td>\n      <td>2008.0</td>\n    </tr>\n    <tr>\n      <th>123</th>\n      <td>14</td>\n      <td>50000.0</td>\n      <td>9</td>\n      <td>2010.0</td>\n    </tr>\n    <tr>\n      <th>...</th>\n      <td>...</td>\n      <td>...</td>\n      <td>...</td>\n      <td>...</td>\n    </tr>\n    <tr>\n      <th>49394</th>\n      <td>4</td>\n      <td>2700000.0</td>\n      <td>9</td>\n      <td>2010.0</td>\n    </tr>\n    <tr>\n      <th>49396</th>\n      <td>0</td>\n      <td>12000.0</td>\n      <td>6</td>\n      <td>2010.0</td>\n    </tr>\n    <tr>\n      <th>49413</th>\n      <td>9</td>\n      <td>3384225.0</td>\n      <td>4</td>\n      <td>2005.0</td>\n    </tr>\n    <tr>\n      <th>49419</th>\n      <td>1</td>\n      <td>2257464.0</td>\n      <td>9</td>\n      <td>2006.0</td>\n    </tr>\n    <tr>\n      <th>49430</th>\n      <td>1</td>\n      <td>15419877.0</td>\n      <td>8</td>\n      <td>1994.0</td>\n    </tr>\n  </tbody>\n</table>\n<p>2201 rows × 4 columns</p>\n</div>"
     },
     "metadata": {},
     "execution_count": 316
    }
   ],
   "source": [
    "X"
   ]
  },
  {
   "cell_type": "code",
   "execution_count": 317,
   "id": "14090768",
   "metadata": {},
   "outputs": [
    {
     "output_type": "execute_result",
     "data": {
      "text/plain": [
       "array([['Software', '1000000', 'USA', '2011']], dtype='<U21')"
      ]
     },
     "metadata": {},
     "execution_count": 317
    }
   ],
   "source": [
    "X = np.array([[\"Software\", 1000000, \"USA\", 2011]])\n",
    "X"
   ]
  },
  {
   "cell_type": "code",
   "execution_count": 318,
   "id": "e84ca803",
   "metadata": {},
   "outputs": [
    {
     "output_type": "execute_result",
     "data": {
      "text/plain": [
       "array([[1.400e+01, 1.000e+06, 9.000e+00, 2.011e+03]])"
      ]
     },
     "metadata": {},
     "execution_count": 318
    }
   ],
   "source": [
    "X[:, 0] = market_fit.transform(X[:,0])\n",
    "X[:, 2] = country_fit.transform(X[:,2])\n",
    "X = X.astype(float)\n",
    "X\n"
   ]
  },
  {
   "cell_type": "code",
   "execution_count": 319,
   "id": "233d1ec1",
   "metadata": {},
   "outputs": [
    {
     "output_type": "execute_result",
     "data": {
      "text/plain": [
       "array(['closed'], dtype=object)"
      ]
     },
     "metadata": {},
     "execution_count": 319
    }
   ],
   "source": [
    "ypred = clf.predict(X)\n",
    "ypred"
   ]
  },
  {
   "cell_type": "code",
   "execution_count": 320,
   "id": "a1c70460",
   "metadata": {},
   "outputs": [],
   "source": [
    "import pickle"
   ]
  },
  {
   "cell_type": "code",
   "execution_count": 321,
   "id": "f70d2f2f",
   "metadata": {},
   "outputs": [],
   "source": [
    "data = {\"model\": clf, \"market_fit\": market_fit, \"country_fit\": country_fit}\n",
    "with open('saved_steps.pkl', 'wb') as file:\n",
    "    pickle.dump(data, file)"
   ]
  },
  {
   "cell_type": "code",
   "execution_count": 322,
   "id": "023021d2",
   "metadata": {},
   "outputs": [],
   "source": [
    "with open('saved_steps.pkl', 'rb') as file:\n",
    "    data = pickle.load(file)\n",
    "\n",
    "model_loaded = data[\"model\"]\n",
    "market_fit = data[\"market_fit\"]\n",
    "country_fit = data[\"country_fit\"]\n"
   ]
  },
  {
   "cell_type": "code",
   "execution_count": 323,
   "id": "22bb1710",
   "metadata": {},
   "outputs": [
    {
     "output_type": "execute_result",
     "data": {
      "text/plain": [
       "array(['closed'], dtype=object)"
      ]
     },
     "metadata": {},
     "execution_count": 323
    }
   ],
   "source": [
    "\n",
    "y_pred"
   ]
  },
  {
   "cell_type": "code",
   "execution_count": null,
   "id": "e7b3d8a8",
   "metadata": {},
   "outputs": [],
   "source": []
  },
  {
   "cell_type": "code",
   "execution_count": null,
   "id": "0222c5ae",
   "metadata": {},
   "outputs": [],
   "source": []
  }
 ],
 "metadata": {
  "kernelspec": {
   "display_name": "startup",
   "language": "python",
   "name": "startup"
  },
  "language_info": {
   "codemirror_mode": {
    "name": "ipython",
    "version": 3
   },
   "file_extension": ".py",
   "mimetype": "text/x-python",
   "name": "python",
   "nbconvert_exporter": "python",
   "pygments_lexer": "ipython3",
   "version": "3.9.4"
  }
 },
 "nbformat": 4,
 "nbformat_minor": 5
}